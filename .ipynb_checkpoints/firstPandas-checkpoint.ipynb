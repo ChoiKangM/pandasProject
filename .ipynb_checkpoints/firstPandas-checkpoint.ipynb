{
 "cells": [
  {
   "cell_type": "code",
   "execution_count": 2,
   "id": "fcae684b",
   "metadata": {},
   "outputs": [],
   "source": [
    "# 데이터분석 라이브러리 pandas 가져와 pd로 축약어 사용\n",
    "import pandas as pd\n",
    "# 배열 연산 라이브러리 numpy 가져와 np로 축약어 사용\n",
    "import numpy as np\n",
    "# 그래프 그리는 라이브러리 matplotlib 중 일부 가져오기\n",
    "import matplotlib.pyplot as plt"
   ]
  },
  {
   "cell_type": "code",
   "execution_count": null,
   "id": "5a45a333",
   "metadata": {},
   "outputs": [],
   "source": [
    "# pandas Series 실행해보기\n",
    "s = pd.Series([1, 3, 5, np.nan, 6, 8])"
   ]
  },
  {
   "cell_type": "code",
   "execution_count": null,
   "id": "f2e257a7",
   "metadata": {},
   "outputs": [],
   "source": [
    "s"
   ]
  },
  {
   "cell_type": "code",
   "execution_count": 3,
   "id": "ad3b5685",
   "metadata": {},
   "outputs": [
    {
     "data": {
      "text/plain": [
       "DatetimeIndex(['2030-01-01', '2030-01-02', '2030-01-03', '2030-01-04',\n",
       "               '2030-01-05', '2030-01-06'],\n",
       "              dtype='datetime64[ns]', freq='D')"
      ]
     },
     "execution_count": 3,
     "metadata": {},
     "output_type": "execute_result"
    }
   ],
   "source": [
    "# pandas DataFrame 사용하기\n",
    "dates = pd.date_range('20300101', periods=6)\n",
    "dates"
   ]
  },
  {
   "cell_type": "code",
   "execution_count": 4,
   "id": "eb3beaf2",
   "metadata": {},
   "outputs": [
    {
     "data": {
      "text/html": [
       "<div>\n",
       "<style scoped>\n",
       "    .dataframe tbody tr th:only-of-type {\n",
       "        vertical-align: middle;\n",
       "    }\n",
       "\n",
       "    .dataframe tbody tr th {\n",
       "        vertical-align: top;\n",
       "    }\n",
       "\n",
       "    .dataframe thead th {\n",
       "        text-align: right;\n",
       "    }\n",
       "</style>\n",
       "<table border=\"1\" class=\"dataframe\">\n",
       "  <thead>\n",
       "    <tr style=\"text-align: right;\">\n",
       "      <th></th>\n",
       "      <th>A</th>\n",
       "      <th>B</th>\n",
       "      <th>C</th>\n",
       "      <th>D</th>\n",
       "    </tr>\n",
       "  </thead>\n",
       "  <tbody>\n",
       "    <tr>\n",
       "      <th>2030-01-01</th>\n",
       "      <td>-0.839355</td>\n",
       "      <td>-0.180907</td>\n",
       "      <td>-0.461020</td>\n",
       "      <td>0.097283</td>\n",
       "    </tr>\n",
       "    <tr>\n",
       "      <th>2030-01-02</th>\n",
       "      <td>0.054210</td>\n",
       "      <td>0.363720</td>\n",
       "      <td>-0.790707</td>\n",
       "      <td>0.455149</td>\n",
       "    </tr>\n",
       "    <tr>\n",
       "      <th>2030-01-03</th>\n",
       "      <td>-0.571645</td>\n",
       "      <td>0.286924</td>\n",
       "      <td>-0.956991</td>\n",
       "      <td>-0.015129</td>\n",
       "    </tr>\n",
       "    <tr>\n",
       "      <th>2030-01-04</th>\n",
       "      <td>-0.945357</td>\n",
       "      <td>0.324213</td>\n",
       "      <td>-1.661276</td>\n",
       "      <td>-1.419571</td>\n",
       "    </tr>\n",
       "    <tr>\n",
       "      <th>2030-01-05</th>\n",
       "      <td>-0.002042</td>\n",
       "      <td>0.665363</td>\n",
       "      <td>-0.861948</td>\n",
       "      <td>-2.711776</td>\n",
       "    </tr>\n",
       "    <tr>\n",
       "      <th>2030-01-06</th>\n",
       "      <td>1.367943</td>\n",
       "      <td>-2.025148</td>\n",
       "      <td>-0.032750</td>\n",
       "      <td>1.572128</td>\n",
       "    </tr>\n",
       "  </tbody>\n",
       "</table>\n",
       "</div>"
      ],
      "text/plain": [
       "                   A         B         C         D\n",
       "2030-01-01 -0.839355 -0.180907 -0.461020  0.097283\n",
       "2030-01-02  0.054210  0.363720 -0.790707  0.455149\n",
       "2030-01-03 -0.571645  0.286924 -0.956991 -0.015129\n",
       "2030-01-04 -0.945357  0.324213 -1.661276 -1.419571\n",
       "2030-01-05 -0.002042  0.665363 -0.861948 -2.711776\n",
       "2030-01-06  1.367943 -2.025148 -0.032750  1.572128"
      ]
     },
     "execution_count": 4,
     "metadata": {},
     "output_type": "execute_result"
    }
   ],
   "source": [
    "df = pd.DataFrame(np.random.randn(6,4), index=dates, columns=list('ABCD'))\n",
    "df"
   ]
  },
  {
   "cell_type": "code",
   "execution_count": null,
   "id": "23cb3a3a",
   "metadata": {},
   "outputs": [],
   "source": [
    "df2 = pd.DataFrame({'A': 1.,\n",
    "                    'B': pd.Timestamp('20300102'),\n",
    "                    'C': pd.Series(1, index=list(range(4)), dtype='float32'),\n",
    "                    'D': np.array([3]*4, dtype='int32'),\n",
    "                    'E': pd.Categorical(['test', 'train', 'test', 'train']),\n",
    "                    'F': 'foo'\n",
    "                   })\n",
    "df2"
   ]
  },
  {
   "cell_type": "code",
   "execution_count": null,
   "id": "7486ba70",
   "metadata": {},
   "outputs": [],
   "source": [
    "df2.dtypes"
   ]
  },
  {
   "cell_type": "code",
   "execution_count": null,
   "id": "c6492914",
   "metadata": {},
   "outputs": [],
   "source": [
    "dir(df2)"
   ]
  },
  {
   "cell_type": "code",
   "execution_count": null,
   "id": "85101049",
   "metadata": {},
   "outputs": [],
   "source": [
    "# 첫 5개 행의 데이터를 보여줍니다\n",
    "df.head()"
   ]
  },
  {
   "cell_type": "code",
   "execution_count": null,
   "id": "17351235",
   "metadata": {},
   "outputs": [],
   "source": [
    "# 마지막 3개 행의 데이터를 보여줍니다\n",
    "df.tail(3)"
   ]
  },
  {
   "cell_type": "code",
   "execution_count": null,
   "id": "d86c01e2",
   "metadata": {},
   "outputs": [],
   "source": [
    "# DataFrame의 인덱스를 보기\n",
    "df.index"
   ]
  },
  {
   "cell_type": "code",
   "execution_count": null,
   "id": "380f5df1",
   "metadata": {},
   "outputs": [],
   "source": [
    "# 컬럼을 보기\n",
    "df.columns"
   ]
  },
  {
   "cell_type": "code",
   "execution_count": null,
   "id": "27fb90ab",
   "metadata": {},
   "outputs": [],
   "source": [
    "# numpy 데이터 살펴보기\n",
    "df.values"
   ]
  },
  {
   "cell_type": "code",
   "execution_count": null,
   "id": "29e24631",
   "metadata": {},
   "outputs": [],
   "source": [
    "# DataFrame의 간단한 통계 정보\n",
    "df.describe()"
   ]
  },
  {
   "cell_type": "code",
   "execution_count": null,
   "id": "b533a4b1",
   "metadata": {},
   "outputs": [],
   "source": [
    "# 열과 행을 바꾼 형태의 DataFrame\n",
    "df.T"
   ]
  },
  {
   "cell_type": "code",
   "execution_count": null,
   "id": "ea44704d",
   "metadata": {},
   "outputs": [],
   "source": [
    "# 행과 열 일므을 정렬해보자\n",
    "# axis=0은 인덱스, axis=1은 컬럼 기준\n",
    "# ascending=True는 오름차순, False는 내림차순\n",
    "df.sort_index(axis=1, ascending=False)"
   ]
  },
  {
   "cell_type": "code",
   "execution_count": null,
   "id": "53a4cbc3",
   "metadata": {},
   "outputs": [],
   "source": [
    "# DataFrame 내부 값으로 정렬하기\n",
    "# ascending=False 추가하면 반대로 뒤집어짐\n",
    "df.sort_values(by='B')"
   ]
  },
  {
   "cell_type": "code",
   "execution_count": 5,
   "id": "e615a409",
   "metadata": {},
   "outputs": [
    {
     "data": {
      "text/plain": [
       "2030-01-01   -0.839355\n",
       "2030-01-02    0.054210\n",
       "2030-01-03   -0.571645\n",
       "2030-01-04   -0.945357\n",
       "2030-01-05   -0.002042\n",
       "2030-01-06    1.367943\n",
       "Freq: D, Name: A, dtype: float64"
      ]
     },
     "execution_count": 5,
     "metadata": {},
     "output_type": "execute_result"
    }
   ],
   "source": [
    "df['A']"
   ]
  },
  {
   "cell_type": "code",
   "execution_count": 6,
   "id": "ba8cf97a",
   "metadata": {},
   "outputs": [
    {
     "data": {
      "text/plain": [
       "pandas.core.series.Series"
      ]
     },
     "execution_count": 6,
     "metadata": {},
     "output_type": "execute_result"
    }
   ],
   "source": [
    "type(df['A'])"
   ]
  },
  {
   "cell_type": "code",
   "execution_count": 7,
   "id": "f2f4753b",
   "metadata": {},
   "outputs": [
    {
     "data": {
      "text/html": [
       "<div>\n",
       "<style scoped>\n",
       "    .dataframe tbody tr th:only-of-type {\n",
       "        vertical-align: middle;\n",
       "    }\n",
       "\n",
       "    .dataframe tbody tr th {\n",
       "        vertical-align: top;\n",
       "    }\n",
       "\n",
       "    .dataframe thead th {\n",
       "        text-align: right;\n",
       "    }\n",
       "</style>\n",
       "<table border=\"1\" class=\"dataframe\">\n",
       "  <thead>\n",
       "    <tr style=\"text-align: right;\">\n",
       "      <th></th>\n",
       "      <th>A</th>\n",
       "      <th>B</th>\n",
       "      <th>C</th>\n",
       "      <th>D</th>\n",
       "    </tr>\n",
       "  </thead>\n",
       "  <tbody>\n",
       "    <tr>\n",
       "      <th>2030-01-01</th>\n",
       "      <td>-0.839355</td>\n",
       "      <td>-0.180907</td>\n",
       "      <td>-0.461020</td>\n",
       "      <td>0.097283</td>\n",
       "    </tr>\n",
       "    <tr>\n",
       "      <th>2030-01-02</th>\n",
       "      <td>0.054210</td>\n",
       "      <td>0.363720</td>\n",
       "      <td>-0.790707</td>\n",
       "      <td>0.455149</td>\n",
       "    </tr>\n",
       "    <tr>\n",
       "      <th>2030-01-03</th>\n",
       "      <td>-0.571645</td>\n",
       "      <td>0.286924</td>\n",
       "      <td>-0.956991</td>\n",
       "      <td>-0.015129</td>\n",
       "    </tr>\n",
       "  </tbody>\n",
       "</table>\n",
       "</div>"
      ],
      "text/plain": [
       "                   A         B         C         D\n",
       "2030-01-01 -0.839355 -0.180907 -0.461020  0.097283\n",
       "2030-01-02  0.054210  0.363720 -0.790707  0.455149\n",
       "2030-01-03 -0.571645  0.286924 -0.956991 -0.015129"
      ]
     },
     "execution_count": 7,
     "metadata": {},
     "output_type": "execute_result"
    }
   ],
   "source": [
    "# 맨 처음 3개의 행을 가져옵니다\n",
    "df[0:3]"
   ]
  },
  {
   "cell_type": "code",
   "execution_count": 11,
   "id": "faed4132",
   "metadata": {},
   "outputs": [
    {
     "data": {
      "text/html": [
       "<div>\n",
       "<style scoped>\n",
       "    .dataframe tbody tr th:only-of-type {\n",
       "        vertical-align: middle;\n",
       "    }\n",
       "\n",
       "    .dataframe tbody tr th {\n",
       "        vertical-align: top;\n",
       "    }\n",
       "\n",
       "    .dataframe thead th {\n",
       "        text-align: right;\n",
       "    }\n",
       "</style>\n",
       "<table border=\"1\" class=\"dataframe\">\n",
       "  <thead>\n",
       "    <tr style=\"text-align: right;\">\n",
       "      <th></th>\n",
       "      <th>A</th>\n",
       "      <th>B</th>\n",
       "      <th>C</th>\n",
       "      <th>D</th>\n",
       "    </tr>\n",
       "  </thead>\n",
       "  <tbody>\n",
       "    <tr>\n",
       "      <th>2030-01-02</th>\n",
       "      <td>0.054210</td>\n",
       "      <td>0.363720</td>\n",
       "      <td>-0.790707</td>\n",
       "      <td>0.455149</td>\n",
       "    </tr>\n",
       "    <tr>\n",
       "      <th>2030-01-03</th>\n",
       "      <td>-0.571645</td>\n",
       "      <td>0.286924</td>\n",
       "      <td>-0.956991</td>\n",
       "      <td>-0.015129</td>\n",
       "    </tr>\n",
       "    <tr>\n",
       "      <th>2030-01-04</th>\n",
       "      <td>-0.945357</td>\n",
       "      <td>0.324213</td>\n",
       "      <td>-1.661276</td>\n",
       "      <td>-1.419571</td>\n",
       "    </tr>\n",
       "  </tbody>\n",
       "</table>\n",
       "</div>"
      ],
      "text/plain": [
       "                   A         B         C         D\n",
       "2030-01-02  0.054210  0.363720 -0.790707  0.455149\n",
       "2030-01-03 -0.571645  0.286924 -0.956991 -0.015129\n",
       "2030-01-04 -0.945357  0.324213 -1.661276 -1.419571"
      ]
     },
     "execution_count": 11,
     "metadata": {},
     "output_type": "execute_result"
    }
   ],
   "source": [
    "# 인덱스명에 해당하는 값을 가져옵니다\n",
    "df['20300102':'20300104']"
   ]
  },
  {
   "cell_type": "code",
   "execution_count": 12,
   "id": "5ff1181f",
   "metadata": {},
   "outputs": [
    {
     "data": {
      "text/plain": [
       "A   -0.839355\n",
       "B   -0.180907\n",
       "C   -0.461020\n",
       "D    0.097283\n",
       "Name: 2030-01-01 00:00:00, dtype: float64"
      ]
     },
     "execution_count": 12,
     "metadata": {},
     "output_type": "execute_result"
    }
   ],
   "source": [
    "# 이름을 이용해 선택하기 .loc\n",
    "df.loc[dates[0]]"
   ]
  },
  {
   "cell_type": "code",
   "execution_count": 13,
   "id": "8fba4e5f",
   "metadata": {},
   "outputs": [
    {
     "data": {
      "text/html": [
       "<div>\n",
       "<style scoped>\n",
       "    .dataframe tbody tr th:only-of-type {\n",
       "        vertical-align: middle;\n",
       "    }\n",
       "\n",
       "    .dataframe tbody tr th {\n",
       "        vertical-align: top;\n",
       "    }\n",
       "\n",
       "    .dataframe thead th {\n",
       "        text-align: right;\n",
       "    }\n",
       "</style>\n",
       "<table border=\"1\" class=\"dataframe\">\n",
       "  <thead>\n",
       "    <tr style=\"text-align: right;\">\n",
       "      <th></th>\n",
       "      <th>A</th>\n",
       "      <th>B</th>\n",
       "    </tr>\n",
       "  </thead>\n",
       "  <tbody>\n",
       "    <tr>\n",
       "      <th>2030-01-01</th>\n",
       "      <td>-0.839355</td>\n",
       "      <td>-0.180907</td>\n",
       "    </tr>\n",
       "    <tr>\n",
       "      <th>2030-01-02</th>\n",
       "      <td>0.054210</td>\n",
       "      <td>0.363720</td>\n",
       "    </tr>\n",
       "    <tr>\n",
       "      <th>2030-01-03</th>\n",
       "      <td>-0.571645</td>\n",
       "      <td>0.286924</td>\n",
       "    </tr>\n",
       "    <tr>\n",
       "      <th>2030-01-04</th>\n",
       "      <td>-0.945357</td>\n",
       "      <td>0.324213</td>\n",
       "    </tr>\n",
       "    <tr>\n",
       "      <th>2030-01-05</th>\n",
       "      <td>-0.002042</td>\n",
       "      <td>0.665363</td>\n",
       "    </tr>\n",
       "    <tr>\n",
       "      <th>2030-01-06</th>\n",
       "      <td>1.367943</td>\n",
       "      <td>-2.025148</td>\n",
       "    </tr>\n",
       "  </tbody>\n",
       "</table>\n",
       "</div>"
      ],
      "text/plain": [
       "                   A         B\n",
       "2030-01-01 -0.839355 -0.180907\n",
       "2030-01-02  0.054210  0.363720\n",
       "2030-01-03 -0.571645  0.286924\n",
       "2030-01-04 -0.945357  0.324213\n",
       "2030-01-05 -0.002042  0.665363\n",
       "2030-01-06  1.367943 -2.025148"
      ]
     },
     "execution_count": 13,
     "metadata": {},
     "output_type": "execute_result"
    }
   ],
   "source": [
    "# 여러 칼럼 가져오기?\n",
    "df.loc[:, ['A', 'B']]"
   ]
  },
  {
   "cell_type": "code",
   "execution_count": 14,
   "id": "f80e5574",
   "metadata": {},
   "outputs": [
    {
     "data": {
      "text/html": [
       "<div>\n",
       "<style scoped>\n",
       "    .dataframe tbody tr th:only-of-type {\n",
       "        vertical-align: middle;\n",
       "    }\n",
       "\n",
       "    .dataframe tbody tr th {\n",
       "        vertical-align: top;\n",
       "    }\n",
       "\n",
       "    .dataframe thead th {\n",
       "        text-align: right;\n",
       "    }\n",
       "</style>\n",
       "<table border=\"1\" class=\"dataframe\">\n",
       "  <thead>\n",
       "    <tr style=\"text-align: right;\">\n",
       "      <th></th>\n",
       "      <th>A</th>\n",
       "      <th>B</th>\n",
       "    </tr>\n",
       "  </thead>\n",
       "  <tbody>\n",
       "    <tr>\n",
       "      <th>2030-01-02</th>\n",
       "      <td>0.054210</td>\n",
       "      <td>0.363720</td>\n",
       "    </tr>\n",
       "    <tr>\n",
       "      <th>2030-01-03</th>\n",
       "      <td>-0.571645</td>\n",
       "      <td>0.286924</td>\n",
       "    </tr>\n",
       "    <tr>\n",
       "      <th>2030-01-04</th>\n",
       "      <td>-0.945357</td>\n",
       "      <td>0.324213</td>\n",
       "    </tr>\n",
       "  </tbody>\n",
       "</table>\n",
       "</div>"
      ],
      "text/plain": [
       "                   A         B\n",
       "2030-01-02  0.054210  0.363720\n",
       "2030-01-03 -0.571645  0.286924\n",
       "2030-01-04 -0.945357  0.324213"
      ]
     },
     "execution_count": 14,
     "metadata": {},
     "output_type": "execute_result"
    }
   ],
   "source": [
    "# 원하는 구간 가져오기\n",
    "df.loc['20300102':'20300104', ['A','B']]"
   ]
  },
  {
   "cell_type": "code",
   "execution_count": 15,
   "id": "275d0103",
   "metadata": {},
   "outputs": [
    {
     "data": {
      "text/plain": [
       "A   -0.839355\n",
       "B   -0.180907\n",
       "Name: 2030-01-01 00:00:00, dtype: float64"
      ]
     },
     "execution_count": 15,
     "metadata": {},
     "output_type": "execute_result"
    }
   ],
   "source": [
    "# 특정 인덱스값의 칼럼 'A', 'B' 가져오기\n",
    "df.loc[dates[0], ['A','B']]"
   ]
  },
  {
   "cell_type": "code",
   "execution_count": 17,
   "id": "81e41f6c",
   "metadata": {},
   "outputs": [
    {
     "data": {
      "text/plain": [
       "-0.8393554998219325"
      ]
     },
     "execution_count": 17,
     "metadata": {},
     "output_type": "execute_result"
    }
   ],
   "source": [
    "# 특정 인덱스 값과 특정 칼럼에 있는 값 가져오기\n",
    "# df.loc[dates[0], 'A']\n",
    "df.at[dates[0], 'A']"
   ]
  },
  {
   "cell_type": "code",
   "execution_count": 18,
   "id": "fc6780fd",
   "metadata": {},
   "outputs": [
    {
     "data": {
      "text/plain": [
       "A   -0.945357\n",
       "B    0.324213\n",
       "C   -1.661276\n",
       "D   -1.419571\n",
       "Name: 2030-01-04 00:00:00, dtype: float64"
      ]
     },
     "execution_count": 18,
     "metadata": {},
     "output_type": "execute_result"
    }
   ],
   "source": [
    "# 위치를 이용해 선택하기\n",
    "df.iloc[3] # 0 1 2 3"
   ]
  },
  {
   "cell_type": "code",
   "execution_count": 19,
   "id": "122991e8",
   "metadata": {},
   "outputs": [
    {
     "data": {
      "text/html": [
       "<div>\n",
       "<style scoped>\n",
       "    .dataframe tbody tr th:only-of-type {\n",
       "        vertical-align: middle;\n",
       "    }\n",
       "\n",
       "    .dataframe tbody tr th {\n",
       "        vertical-align: top;\n",
       "    }\n",
       "\n",
       "    .dataframe thead th {\n",
       "        text-align: right;\n",
       "    }\n",
       "</style>\n",
       "<table border=\"1\" class=\"dataframe\">\n",
       "  <thead>\n",
       "    <tr style=\"text-align: right;\">\n",
       "      <th></th>\n",
       "      <th>A</th>\n",
       "      <th>B</th>\n",
       "    </tr>\n",
       "  </thead>\n",
       "  <tbody>\n",
       "    <tr>\n",
       "      <th>2030-01-04</th>\n",
       "      <td>-0.945357</td>\n",
       "      <td>0.324213</td>\n",
       "    </tr>\n",
       "    <tr>\n",
       "      <th>2030-01-05</th>\n",
       "      <td>-0.002042</td>\n",
       "      <td>0.665363</td>\n",
       "    </tr>\n",
       "  </tbody>\n",
       "</table>\n",
       "</div>"
      ],
      "text/plain": [
       "                   A         B\n",
       "2030-01-04 -0.945357  0.324213\n",
       "2030-01-05 -0.002042  0.665363"
      ]
     },
     "execution_count": 19,
     "metadata": {},
     "output_type": "execute_result"
    }
   ],
   "source": [
    "# 위치를 이용해 범위 선택하기\n",
    "df.iloc[3:5, 0:2]"
   ]
  },
  {
   "cell_type": "code",
   "execution_count": 20,
   "id": "a354b3c6",
   "metadata": {},
   "outputs": [
    {
     "data": {
      "text/html": [
       "<div>\n",
       "<style scoped>\n",
       "    .dataframe tbody tr th:only-of-type {\n",
       "        vertical-align: middle;\n",
       "    }\n",
       "\n",
       "    .dataframe tbody tr th {\n",
       "        vertical-align: top;\n",
       "    }\n",
       "\n",
       "    .dataframe thead th {\n",
       "        text-align: right;\n",
       "    }\n",
       "</style>\n",
       "<table border=\"1\" class=\"dataframe\">\n",
       "  <thead>\n",
       "    <tr style=\"text-align: right;\">\n",
       "      <th></th>\n",
       "      <th>A</th>\n",
       "      <th>C</th>\n",
       "    </tr>\n",
       "  </thead>\n",
       "  <tbody>\n",
       "    <tr>\n",
       "      <th>2030-01-02</th>\n",
       "      <td>0.054210</td>\n",
       "      <td>-0.790707</td>\n",
       "    </tr>\n",
       "    <tr>\n",
       "      <th>2030-01-03</th>\n",
       "      <td>-0.571645</td>\n",
       "      <td>-0.956991</td>\n",
       "    </tr>\n",
       "    <tr>\n",
       "      <th>2030-01-05</th>\n",
       "      <td>-0.002042</td>\n",
       "      <td>-0.861948</td>\n",
       "    </tr>\n",
       "  </tbody>\n",
       "</table>\n",
       "</div>"
      ],
      "text/plain": [
       "                   A         C\n",
       "2030-01-02  0.054210 -0.790707\n",
       "2030-01-03 -0.571645 -0.956991\n",
       "2030-01-05 -0.002042 -0.861948"
      ]
     },
     "execution_count": 20,
     "metadata": {},
     "output_type": "execute_result"
    }
   ],
   "source": [
    "# 행과 열의 인덱스로 리스트에 넘겨주기\n",
    "# 2,3,5 행 + 1,3 열\n",
    "df.iloc[[1,2,4], [0,2]]"
   ]
  },
  {
   "cell_type": "code",
   "execution_count": 21,
   "id": "da01ff91",
   "metadata": {},
   "outputs": [
    {
     "data": {
      "text/html": [
       "<div>\n",
       "<style scoped>\n",
       "    .dataframe tbody tr th:only-of-type {\n",
       "        vertical-align: middle;\n",
       "    }\n",
       "\n",
       "    .dataframe tbody tr th {\n",
       "        vertical-align: top;\n",
       "    }\n",
       "\n",
       "    .dataframe thead th {\n",
       "        text-align: right;\n",
       "    }\n",
       "</style>\n",
       "<table border=\"1\" class=\"dataframe\">\n",
       "  <thead>\n",
       "    <tr style=\"text-align: right;\">\n",
       "      <th></th>\n",
       "      <th>A</th>\n",
       "      <th>B</th>\n",
       "      <th>C</th>\n",
       "      <th>D</th>\n",
       "    </tr>\n",
       "  </thead>\n",
       "  <tbody>\n",
       "    <tr>\n",
       "      <th>2030-01-02</th>\n",
       "      <td>0.054210</td>\n",
       "      <td>0.363720</td>\n",
       "      <td>-0.790707</td>\n",
       "      <td>0.455149</td>\n",
       "    </tr>\n",
       "    <tr>\n",
       "      <th>2030-01-03</th>\n",
       "      <td>-0.571645</td>\n",
       "      <td>0.286924</td>\n",
       "      <td>-0.956991</td>\n",
       "      <td>-0.015129</td>\n",
       "    </tr>\n",
       "  </tbody>\n",
       "</table>\n",
       "</div>"
      ],
      "text/plain": [
       "                   A         B         C         D\n",
       "2030-01-02  0.054210  0.363720 -0.790707  0.455149\n",
       "2030-01-03 -0.571645  0.286924 -0.956991 -0.015129"
      ]
     },
     "execution_count": 21,
     "metadata": {},
     "output_type": "execute_result"
    }
   ],
   "source": [
    "# : -> 열이나 행 전체를 가져오는 기호\n",
    "df.iloc[1:3, :]"
   ]
  },
  {
   "cell_type": "code",
   "execution_count": 22,
   "id": "7501748b",
   "metadata": {},
   "outputs": [
    {
     "data": {
      "text/html": [
       "<div>\n",
       "<style scoped>\n",
       "    .dataframe tbody tr th:only-of-type {\n",
       "        vertical-align: middle;\n",
       "    }\n",
       "\n",
       "    .dataframe tbody tr th {\n",
       "        vertical-align: top;\n",
       "    }\n",
       "\n",
       "    .dataframe thead th {\n",
       "        text-align: right;\n",
       "    }\n",
       "</style>\n",
       "<table border=\"1\" class=\"dataframe\">\n",
       "  <thead>\n",
       "    <tr style=\"text-align: right;\">\n",
       "      <th></th>\n",
       "      <th>B</th>\n",
       "      <th>C</th>\n",
       "    </tr>\n",
       "  </thead>\n",
       "  <tbody>\n",
       "    <tr>\n",
       "      <th>2030-01-01</th>\n",
       "      <td>-0.180907</td>\n",
       "      <td>-0.461020</td>\n",
       "    </tr>\n",
       "    <tr>\n",
       "      <th>2030-01-02</th>\n",
       "      <td>0.363720</td>\n",
       "      <td>-0.790707</td>\n",
       "    </tr>\n",
       "    <tr>\n",
       "      <th>2030-01-03</th>\n",
       "      <td>0.286924</td>\n",
       "      <td>-0.956991</td>\n",
       "    </tr>\n",
       "    <tr>\n",
       "      <th>2030-01-04</th>\n",
       "      <td>0.324213</td>\n",
       "      <td>-1.661276</td>\n",
       "    </tr>\n",
       "    <tr>\n",
       "      <th>2030-01-05</th>\n",
       "      <td>0.665363</td>\n",
       "      <td>-0.861948</td>\n",
       "    </tr>\n",
       "    <tr>\n",
       "      <th>2030-01-06</th>\n",
       "      <td>-2.025148</td>\n",
       "      <td>-0.032750</td>\n",
       "    </tr>\n",
       "  </tbody>\n",
       "</table>\n",
       "</div>"
      ],
      "text/plain": [
       "                   B         C\n",
       "2030-01-01 -0.180907 -0.461020\n",
       "2030-01-02  0.363720 -0.790707\n",
       "2030-01-03  0.286924 -0.956991\n",
       "2030-01-04  0.324213 -1.661276\n",
       "2030-01-05  0.665363 -0.861948\n",
       "2030-01-06 -2.025148 -0.032750"
      ]
     },
     "execution_count": 22,
     "metadata": {},
     "output_type": "execute_result"
    }
   ],
   "source": [
    "df.iloc[:, 1:3]"
   ]
  },
  {
   "cell_type": "code",
   "execution_count": 23,
   "id": "9f76ac05",
   "metadata": {},
   "outputs": [
    {
     "data": {
      "text/plain": [
       "0.3637199718406666"
      ]
     },
     "execution_count": 23,
     "metadata": {},
     "output_type": "execute_result"
    }
   ],
   "source": [
    "# 값 하나를 선택하자\n",
    "# 특정 행과 열을 지정\n",
    "df.iloc[1,1]"
   ]
  },
  {
   "cell_type": "code",
   "execution_count": 24,
   "id": "85722691",
   "metadata": {},
   "outputs": [
    {
     "data": {
      "text/plain": [
       "0.3637199718406666"
      ]
     },
     "execution_count": 24,
     "metadata": {},
     "output_type": "execute_result"
    }
   ],
   "source": [
    "df.iat[1,1]"
   ]
  },
  {
   "cell_type": "code",
   "execution_count": 25,
   "id": "f6c0a9de",
   "metadata": {},
   "outputs": [
    {
     "data": {
      "text/html": [
       "<div>\n",
       "<style scoped>\n",
       "    .dataframe tbody tr th:only-of-type {\n",
       "        vertical-align: middle;\n",
       "    }\n",
       "\n",
       "    .dataframe tbody tr th {\n",
       "        vertical-align: top;\n",
       "    }\n",
       "\n",
       "    .dataframe thead th {\n",
       "        text-align: right;\n",
       "    }\n",
       "</style>\n",
       "<table border=\"1\" class=\"dataframe\">\n",
       "  <thead>\n",
       "    <tr style=\"text-align: right;\">\n",
       "      <th></th>\n",
       "      <th>A</th>\n",
       "      <th>B</th>\n",
       "      <th>C</th>\n",
       "      <th>D</th>\n",
       "    </tr>\n",
       "  </thead>\n",
       "  <tbody>\n",
       "    <tr>\n",
       "      <th>2030-01-02</th>\n",
       "      <td>0.054210</td>\n",
       "      <td>0.363720</td>\n",
       "      <td>-0.790707</td>\n",
       "      <td>0.455149</td>\n",
       "    </tr>\n",
       "    <tr>\n",
       "      <th>2030-01-06</th>\n",
       "      <td>1.367943</td>\n",
       "      <td>-2.025148</td>\n",
       "      <td>-0.032750</td>\n",
       "      <td>1.572128</td>\n",
       "    </tr>\n",
       "  </tbody>\n",
       "</table>\n",
       "</div>"
      ],
      "text/plain": [
       "                   A         B         C         D\n",
       "2030-01-02  0.054210  0.363720 -0.790707  0.455149\n",
       "2030-01-06  1.367943 -2.025148 -0.032750  1.572128"
      ]
     },
     "execution_count": 25,
     "metadata": {},
     "output_type": "execute_result"
    }
   ],
   "source": [
    "# 조건을 이용하기\n",
    "# A라는 열에 들어있는 값이 양수인 경우에 해당하는 행 선택\n",
    "df[df.A > 0]"
   ]
  },
  {
   "cell_type": "code",
   "execution_count": 26,
   "id": "c1e52dfc",
   "metadata": {},
   "outputs": [
    {
     "data": {
      "text/html": [
       "<div>\n",
       "<style scoped>\n",
       "    .dataframe tbody tr th:only-of-type {\n",
       "        vertical-align: middle;\n",
       "    }\n",
       "\n",
       "    .dataframe tbody tr th {\n",
       "        vertical-align: top;\n",
       "    }\n",
       "\n",
       "    .dataframe thead th {\n",
       "        text-align: right;\n",
       "    }\n",
       "</style>\n",
       "<table border=\"1\" class=\"dataframe\">\n",
       "  <thead>\n",
       "    <tr style=\"text-align: right;\">\n",
       "      <th></th>\n",
       "      <th>A</th>\n",
       "      <th>B</th>\n",
       "      <th>C</th>\n",
       "      <th>D</th>\n",
       "    </tr>\n",
       "  </thead>\n",
       "  <tbody>\n",
       "    <tr>\n",
       "      <th>2030-01-01</th>\n",
       "      <td>NaN</td>\n",
       "      <td>NaN</td>\n",
       "      <td>NaN</td>\n",
       "      <td>0.097283</td>\n",
       "    </tr>\n",
       "    <tr>\n",
       "      <th>2030-01-02</th>\n",
       "      <td>0.054210</td>\n",
       "      <td>0.363720</td>\n",
       "      <td>NaN</td>\n",
       "      <td>0.455149</td>\n",
       "    </tr>\n",
       "    <tr>\n",
       "      <th>2030-01-03</th>\n",
       "      <td>NaN</td>\n",
       "      <td>0.286924</td>\n",
       "      <td>NaN</td>\n",
       "      <td>NaN</td>\n",
       "    </tr>\n",
       "    <tr>\n",
       "      <th>2030-01-04</th>\n",
       "      <td>NaN</td>\n",
       "      <td>0.324213</td>\n",
       "      <td>NaN</td>\n",
       "      <td>NaN</td>\n",
       "    </tr>\n",
       "    <tr>\n",
       "      <th>2030-01-05</th>\n",
       "      <td>NaN</td>\n",
       "      <td>0.665363</td>\n",
       "      <td>NaN</td>\n",
       "      <td>NaN</td>\n",
       "    </tr>\n",
       "    <tr>\n",
       "      <th>2030-01-06</th>\n",
       "      <td>1.367943</td>\n",
       "      <td>NaN</td>\n",
       "      <td>NaN</td>\n",
       "      <td>1.572128</td>\n",
       "    </tr>\n",
       "  </tbody>\n",
       "</table>\n",
       "</div>"
      ],
      "text/plain": [
       "                   A         B   C         D\n",
       "2030-01-01       NaN       NaN NaN  0.097283\n",
       "2030-01-02  0.054210  0.363720 NaN  0.455149\n",
       "2030-01-03       NaN  0.286924 NaN       NaN\n",
       "2030-01-04       NaN  0.324213 NaN       NaN\n",
       "2030-01-05       NaN  0.665363 NaN       NaN\n",
       "2030-01-06  1.367943       NaN NaN  1.572128"
      ]
     },
     "execution_count": 26,
     "metadata": {},
     "output_type": "execute_result"
    }
   ],
   "source": [
    "df[df > 0]"
   ]
  },
  {
   "cell_type": "code",
   "execution_count": 27,
   "id": "03cb8088",
   "metadata": {},
   "outputs": [
    {
     "data": {
      "text/html": [
       "<div>\n",
       "<style scoped>\n",
       "    .dataframe tbody tr th:only-of-type {\n",
       "        vertical-align: middle;\n",
       "    }\n",
       "\n",
       "    .dataframe tbody tr th {\n",
       "        vertical-align: top;\n",
       "    }\n",
       "\n",
       "    .dataframe thead th {\n",
       "        text-align: right;\n",
       "    }\n",
       "</style>\n",
       "<table border=\"1\" class=\"dataframe\">\n",
       "  <thead>\n",
       "    <tr style=\"text-align: right;\">\n",
       "      <th></th>\n",
       "      <th>A</th>\n",
       "      <th>B</th>\n",
       "      <th>C</th>\n",
       "      <th>D</th>\n",
       "      <th>E</th>\n",
       "    </tr>\n",
       "  </thead>\n",
       "  <tbody>\n",
       "    <tr>\n",
       "      <th>2030-01-01</th>\n",
       "      <td>-0.839355</td>\n",
       "      <td>-0.180907</td>\n",
       "      <td>-0.461020</td>\n",
       "      <td>0.097283</td>\n",
       "      <td>one</td>\n",
       "    </tr>\n",
       "    <tr>\n",
       "      <th>2030-01-02</th>\n",
       "      <td>0.054210</td>\n",
       "      <td>0.363720</td>\n",
       "      <td>-0.790707</td>\n",
       "      <td>0.455149</td>\n",
       "      <td>one</td>\n",
       "    </tr>\n",
       "    <tr>\n",
       "      <th>2030-01-03</th>\n",
       "      <td>-0.571645</td>\n",
       "      <td>0.286924</td>\n",
       "      <td>-0.956991</td>\n",
       "      <td>-0.015129</td>\n",
       "      <td>two</td>\n",
       "    </tr>\n",
       "    <tr>\n",
       "      <th>2030-01-04</th>\n",
       "      <td>-0.945357</td>\n",
       "      <td>0.324213</td>\n",
       "      <td>-1.661276</td>\n",
       "      <td>-1.419571</td>\n",
       "      <td>three</td>\n",
       "    </tr>\n",
       "    <tr>\n",
       "      <th>2030-01-05</th>\n",
       "      <td>-0.002042</td>\n",
       "      <td>0.665363</td>\n",
       "      <td>-0.861948</td>\n",
       "      <td>-2.711776</td>\n",
       "      <td>four</td>\n",
       "    </tr>\n",
       "    <tr>\n",
       "      <th>2030-01-06</th>\n",
       "      <td>1.367943</td>\n",
       "      <td>-2.025148</td>\n",
       "      <td>-0.032750</td>\n",
       "      <td>1.572128</td>\n",
       "      <td>three</td>\n",
       "    </tr>\n",
       "  </tbody>\n",
       "</table>\n",
       "</div>"
      ],
      "text/plain": [
       "                   A         B         C         D      E\n",
       "2030-01-01 -0.839355 -0.180907 -0.461020  0.097283    one\n",
       "2030-01-02  0.054210  0.363720 -0.790707  0.455149    one\n",
       "2030-01-03 -0.571645  0.286924 -0.956991 -0.015129    two\n",
       "2030-01-04 -0.945357  0.324213 -1.661276 -1.419571  three\n",
       "2030-01-05 -0.002042  0.665363 -0.861948 -2.711776   four\n",
       "2030-01-06  1.367943 -2.025148 -0.032750  1.572128  three"
      ]
     },
     "execution_count": 27,
     "metadata": {},
     "output_type": "execute_result"
    }
   ],
   "source": [
    "# 필터링 isin()\n",
    "df2 = df.copy()\n",
    "df2['E'] = ['one', 'one', 'two', 'three', 'four', 'three']\n",
    "df2"
   ]
  },
  {
   "cell_type": "code",
   "execution_count": 28,
   "id": "b32bc12e",
   "metadata": {},
   "outputs": [
    {
     "data": {
      "text/html": [
       "<div>\n",
       "<style scoped>\n",
       "    .dataframe tbody tr th:only-of-type {\n",
       "        vertical-align: middle;\n",
       "    }\n",
       "\n",
       "    .dataframe tbody tr th {\n",
       "        vertical-align: top;\n",
       "    }\n",
       "\n",
       "    .dataframe thead th {\n",
       "        text-align: right;\n",
       "    }\n",
       "</style>\n",
       "<table border=\"1\" class=\"dataframe\">\n",
       "  <thead>\n",
       "    <tr style=\"text-align: right;\">\n",
       "      <th></th>\n",
       "      <th>A</th>\n",
       "      <th>B</th>\n",
       "      <th>C</th>\n",
       "      <th>D</th>\n",
       "      <th>E</th>\n",
       "    </tr>\n",
       "  </thead>\n",
       "  <tbody>\n",
       "    <tr>\n",
       "      <th>2030-01-03</th>\n",
       "      <td>-0.571645</td>\n",
       "      <td>0.286924</td>\n",
       "      <td>-0.956991</td>\n",
       "      <td>-0.015129</td>\n",
       "      <td>two</td>\n",
       "    </tr>\n",
       "    <tr>\n",
       "      <th>2030-01-05</th>\n",
       "      <td>-0.002042</td>\n",
       "      <td>0.665363</td>\n",
       "      <td>-0.861948</td>\n",
       "      <td>-2.711776</td>\n",
       "      <td>four</td>\n",
       "    </tr>\n",
       "  </tbody>\n",
       "</table>\n",
       "</div>"
      ],
      "text/plain": [
       "                   A         B         C         D     E\n",
       "2030-01-03 -0.571645  0.286924 -0.956991 -0.015129   two\n",
       "2030-01-05 -0.002042  0.665363 -0.861948 -2.711776  four"
      ]
     },
     "execution_count": 28,
     "metadata": {},
     "output_type": "execute_result"
    }
   ],
   "source": [
    "df2[df2['E'].isin(['two', 'four'])]"
   ]
  },
  {
   "cell_type": "code",
   "execution_count": 29,
   "id": "bd721f2a",
   "metadata": {},
   "outputs": [
    {
     "data": {
      "text/plain": [
       "2030-01-01    1\n",
       "2030-01-02    2\n",
       "2030-01-03    3\n",
       "2030-01-04    4\n",
       "2030-01-05    5\n",
       "2030-01-06    6\n",
       "Freq: D, dtype: int64"
      ]
     },
     "execution_count": 29,
     "metadata": {},
     "output_type": "execute_result"
    }
   ],
   "source": [
    "# 데이터 변경하기\n",
    "s1 = pd.Series([1,2,3,4,5,6], index=pd.date_range('20300101', periods=6))\n",
    "s1"
   ]
  },
  {
   "cell_type": "code",
   "execution_count": 30,
   "id": "bf5df291",
   "metadata": {},
   "outputs": [
    {
     "data": {
      "text/html": [
       "<div>\n",
       "<style scoped>\n",
       "    .dataframe tbody tr th:only-of-type {\n",
       "        vertical-align: middle;\n",
       "    }\n",
       "\n",
       "    .dataframe tbody tr th {\n",
       "        vertical-align: top;\n",
       "    }\n",
       "\n",
       "    .dataframe thead th {\n",
       "        text-align: right;\n",
       "    }\n",
       "</style>\n",
       "<table border=\"1\" class=\"dataframe\">\n",
       "  <thead>\n",
       "    <tr style=\"text-align: right;\">\n",
       "      <th></th>\n",
       "      <th>A</th>\n",
       "      <th>B</th>\n",
       "      <th>C</th>\n",
       "      <th>D</th>\n",
       "      <th>F</th>\n",
       "    </tr>\n",
       "  </thead>\n",
       "  <tbody>\n",
       "    <tr>\n",
       "      <th>2030-01-01</th>\n",
       "      <td>-0.839355</td>\n",
       "      <td>-0.180907</td>\n",
       "      <td>-0.461020</td>\n",
       "      <td>0.097283</td>\n",
       "      <td>1</td>\n",
       "    </tr>\n",
       "    <tr>\n",
       "      <th>2030-01-02</th>\n",
       "      <td>0.054210</td>\n",
       "      <td>0.363720</td>\n",
       "      <td>-0.790707</td>\n",
       "      <td>0.455149</td>\n",
       "      <td>2</td>\n",
       "    </tr>\n",
       "    <tr>\n",
       "      <th>2030-01-03</th>\n",
       "      <td>-0.571645</td>\n",
       "      <td>0.286924</td>\n",
       "      <td>-0.956991</td>\n",
       "      <td>-0.015129</td>\n",
       "      <td>3</td>\n",
       "    </tr>\n",
       "    <tr>\n",
       "      <th>2030-01-04</th>\n",
       "      <td>-0.945357</td>\n",
       "      <td>0.324213</td>\n",
       "      <td>-1.661276</td>\n",
       "      <td>-1.419571</td>\n",
       "      <td>4</td>\n",
       "    </tr>\n",
       "    <tr>\n",
       "      <th>2030-01-05</th>\n",
       "      <td>-0.002042</td>\n",
       "      <td>0.665363</td>\n",
       "      <td>-0.861948</td>\n",
       "      <td>-2.711776</td>\n",
       "      <td>5</td>\n",
       "    </tr>\n",
       "    <tr>\n",
       "      <th>2030-01-06</th>\n",
       "      <td>1.367943</td>\n",
       "      <td>-2.025148</td>\n",
       "      <td>-0.032750</td>\n",
       "      <td>1.572128</td>\n",
       "      <td>6</td>\n",
       "    </tr>\n",
       "  </tbody>\n",
       "</table>\n",
       "</div>"
      ],
      "text/plain": [
       "                   A         B         C         D  F\n",
       "2030-01-01 -0.839355 -0.180907 -0.461020  0.097283  1\n",
       "2030-01-02  0.054210  0.363720 -0.790707  0.455149  2\n",
       "2030-01-03 -0.571645  0.286924 -0.956991 -0.015129  3\n",
       "2030-01-04 -0.945357  0.324213 -1.661276 -1.419571  4\n",
       "2030-01-05 -0.002042  0.665363 -0.861948 -2.711776  5\n",
       "2030-01-06  1.367943 -2.025148 -0.032750  1.572128  6"
      ]
     },
     "execution_count": 30,
     "metadata": {},
     "output_type": "execute_result"
    }
   ],
   "source": [
    "df['F'] = s1\n",
    "df"
   ]
  },
  {
   "cell_type": "code",
   "execution_count": 31,
   "id": "29bff9ae",
   "metadata": {},
   "outputs": [],
   "source": [
    "# 특정값 하나를 선택해 다른 값으로 바꾸기\n",
    "df.at[dates[0], 'A'] = 0\n",
    "# df.iat[0,1] = 0"
   ]
  },
  {
   "cell_type": "code",
   "execution_count": 32,
   "id": "e399baf8",
   "metadata": {},
   "outputs": [
    {
     "data": {
      "text/html": [
       "<div>\n",
       "<style scoped>\n",
       "    .dataframe tbody tr th:only-of-type {\n",
       "        vertical-align: middle;\n",
       "    }\n",
       "\n",
       "    .dataframe tbody tr th {\n",
       "        vertical-align: top;\n",
       "    }\n",
       "\n",
       "    .dataframe thead th {\n",
       "        text-align: right;\n",
       "    }\n",
       "</style>\n",
       "<table border=\"1\" class=\"dataframe\">\n",
       "  <thead>\n",
       "    <tr style=\"text-align: right;\">\n",
       "      <th></th>\n",
       "      <th>A</th>\n",
       "      <th>B</th>\n",
       "      <th>C</th>\n",
       "      <th>D</th>\n",
       "      <th>F</th>\n",
       "    </tr>\n",
       "  </thead>\n",
       "  <tbody>\n",
       "    <tr>\n",
       "      <th>2030-01-01</th>\n",
       "      <td>0.000000</td>\n",
       "      <td>-0.180907</td>\n",
       "      <td>-0.461020</td>\n",
       "      <td>0.097283</td>\n",
       "      <td>1</td>\n",
       "    </tr>\n",
       "    <tr>\n",
       "      <th>2030-01-02</th>\n",
       "      <td>0.054210</td>\n",
       "      <td>0.363720</td>\n",
       "      <td>-0.790707</td>\n",
       "      <td>0.455149</td>\n",
       "      <td>2</td>\n",
       "    </tr>\n",
       "    <tr>\n",
       "      <th>2030-01-03</th>\n",
       "      <td>-0.571645</td>\n",
       "      <td>0.286924</td>\n",
       "      <td>-0.956991</td>\n",
       "      <td>-0.015129</td>\n",
       "      <td>3</td>\n",
       "    </tr>\n",
       "    <tr>\n",
       "      <th>2030-01-04</th>\n",
       "      <td>-0.945357</td>\n",
       "      <td>0.324213</td>\n",
       "      <td>-1.661276</td>\n",
       "      <td>-1.419571</td>\n",
       "      <td>4</td>\n",
       "    </tr>\n",
       "    <tr>\n",
       "      <th>2030-01-05</th>\n",
       "      <td>-0.002042</td>\n",
       "      <td>0.665363</td>\n",
       "      <td>-0.861948</td>\n",
       "      <td>-2.711776</td>\n",
       "      <td>5</td>\n",
       "    </tr>\n",
       "    <tr>\n",
       "      <th>2030-01-06</th>\n",
       "      <td>1.367943</td>\n",
       "      <td>-2.025148</td>\n",
       "      <td>-0.032750</td>\n",
       "      <td>1.572128</td>\n",
       "      <td>6</td>\n",
       "    </tr>\n",
       "  </tbody>\n",
       "</table>\n",
       "</div>"
      ],
      "text/plain": [
       "                   A         B         C         D  F\n",
       "2030-01-01  0.000000 -0.180907 -0.461020  0.097283  1\n",
       "2030-01-02  0.054210  0.363720 -0.790707  0.455149  2\n",
       "2030-01-03 -0.571645  0.286924 -0.956991 -0.015129  3\n",
       "2030-01-04 -0.945357  0.324213 -1.661276 -1.419571  4\n",
       "2030-01-05 -0.002042  0.665363 -0.861948 -2.711776  5\n",
       "2030-01-06  1.367943 -2.025148 -0.032750  1.572128  6"
      ]
     },
     "execution_count": 32,
     "metadata": {},
     "output_type": "execute_result"
    }
   ],
   "source": [
    "df"
   ]
  },
  {
   "cell_type": "code",
   "execution_count": 33,
   "id": "51cf42f6",
   "metadata": {},
   "outputs": [
    {
     "data": {
      "text/html": [
       "<div>\n",
       "<style scoped>\n",
       "    .dataframe tbody tr th:only-of-type {\n",
       "        vertical-align: middle;\n",
       "    }\n",
       "\n",
       "    .dataframe tbody tr th {\n",
       "        vertical-align: top;\n",
       "    }\n",
       "\n",
       "    .dataframe thead th {\n",
       "        text-align: right;\n",
       "    }\n",
       "</style>\n",
       "<table border=\"1\" class=\"dataframe\">\n",
       "  <thead>\n",
       "    <tr style=\"text-align: right;\">\n",
       "      <th></th>\n",
       "      <th>A</th>\n",
       "      <th>B</th>\n",
       "      <th>C</th>\n",
       "      <th>D</th>\n",
       "      <th>F</th>\n",
       "    </tr>\n",
       "  </thead>\n",
       "  <tbody>\n",
       "    <tr>\n",
       "      <th>2030-01-01</th>\n",
       "      <td>0.000000</td>\n",
       "      <td>-0.180907</td>\n",
       "      <td>-0.461020</td>\n",
       "      <td>5</td>\n",
       "      <td>1</td>\n",
       "    </tr>\n",
       "    <tr>\n",
       "      <th>2030-01-02</th>\n",
       "      <td>0.054210</td>\n",
       "      <td>0.363720</td>\n",
       "      <td>-0.790707</td>\n",
       "      <td>5</td>\n",
       "      <td>2</td>\n",
       "    </tr>\n",
       "    <tr>\n",
       "      <th>2030-01-03</th>\n",
       "      <td>-0.571645</td>\n",
       "      <td>0.286924</td>\n",
       "      <td>-0.956991</td>\n",
       "      <td>5</td>\n",
       "      <td>3</td>\n",
       "    </tr>\n",
       "    <tr>\n",
       "      <th>2030-01-04</th>\n",
       "      <td>-0.945357</td>\n",
       "      <td>0.324213</td>\n",
       "      <td>-1.661276</td>\n",
       "      <td>5</td>\n",
       "      <td>4</td>\n",
       "    </tr>\n",
       "    <tr>\n",
       "      <th>2030-01-05</th>\n",
       "      <td>-0.002042</td>\n",
       "      <td>0.665363</td>\n",
       "      <td>-0.861948</td>\n",
       "      <td>5</td>\n",
       "      <td>5</td>\n",
       "    </tr>\n",
       "    <tr>\n",
       "      <th>2030-01-06</th>\n",
       "      <td>1.367943</td>\n",
       "      <td>-2.025148</td>\n",
       "      <td>-0.032750</td>\n",
       "      <td>5</td>\n",
       "      <td>6</td>\n",
       "    </tr>\n",
       "  </tbody>\n",
       "</table>\n",
       "</div>"
      ],
      "text/plain": [
       "                   A         B         C  D  F\n",
       "2030-01-01  0.000000 -0.180907 -0.461020  5  1\n",
       "2030-01-02  0.054210  0.363720 -0.790707  5  2\n",
       "2030-01-03 -0.571645  0.286924 -0.956991  5  3\n",
       "2030-01-04 -0.945357  0.324213 -1.661276  5  4\n",
       "2030-01-05 -0.002042  0.665363 -0.861948  5  5\n",
       "2030-01-06  1.367943 -2.025148 -0.032750  5  6"
      ]
     },
     "execution_count": 33,
     "metadata": {},
     "output_type": "execute_result"
    }
   ],
   "source": [
    "# 한번에 여러 데이터 바꾸기\n",
    "df.loc[:, 'D'] = np.array([5] * len(df))\n",
    "df"
   ]
  },
  {
   "cell_type": "code",
   "execution_count": 34,
   "id": "53e78fd1",
   "metadata": {},
   "outputs": [
    {
     "data": {
      "text/html": [
       "<div>\n",
       "<style scoped>\n",
       "    .dataframe tbody tr th:only-of-type {\n",
       "        vertical-align: middle;\n",
       "    }\n",
       "\n",
       "    .dataframe tbody tr th {\n",
       "        vertical-align: top;\n",
       "    }\n",
       "\n",
       "    .dataframe thead th {\n",
       "        text-align: right;\n",
       "    }\n",
       "</style>\n",
       "<table border=\"1\" class=\"dataframe\">\n",
       "  <thead>\n",
       "    <tr style=\"text-align: right;\">\n",
       "      <th></th>\n",
       "      <th>A</th>\n",
       "      <th>B</th>\n",
       "      <th>C</th>\n",
       "      <th>D</th>\n",
       "      <th>F</th>\n",
       "    </tr>\n",
       "  </thead>\n",
       "  <tbody>\n",
       "    <tr>\n",
       "      <th>2030-01-01</th>\n",
       "      <td>0.000000</td>\n",
       "      <td>-0.180907</td>\n",
       "      <td>-0.461020</td>\n",
       "      <td>-5</td>\n",
       "      <td>-1</td>\n",
       "    </tr>\n",
       "    <tr>\n",
       "      <th>2030-01-02</th>\n",
       "      <td>-0.054210</td>\n",
       "      <td>-0.363720</td>\n",
       "      <td>-0.790707</td>\n",
       "      <td>-5</td>\n",
       "      <td>-2</td>\n",
       "    </tr>\n",
       "    <tr>\n",
       "      <th>2030-01-03</th>\n",
       "      <td>-0.571645</td>\n",
       "      <td>-0.286924</td>\n",
       "      <td>-0.956991</td>\n",
       "      <td>-5</td>\n",
       "      <td>-3</td>\n",
       "    </tr>\n",
       "    <tr>\n",
       "      <th>2030-01-04</th>\n",
       "      <td>-0.945357</td>\n",
       "      <td>-0.324213</td>\n",
       "      <td>-1.661276</td>\n",
       "      <td>-5</td>\n",
       "      <td>-4</td>\n",
       "    </tr>\n",
       "    <tr>\n",
       "      <th>2030-01-05</th>\n",
       "      <td>-0.002042</td>\n",
       "      <td>-0.665363</td>\n",
       "      <td>-0.861948</td>\n",
       "      <td>-5</td>\n",
       "      <td>-5</td>\n",
       "    </tr>\n",
       "    <tr>\n",
       "      <th>2030-01-06</th>\n",
       "      <td>-1.367943</td>\n",
       "      <td>-2.025148</td>\n",
       "      <td>-0.032750</td>\n",
       "      <td>-5</td>\n",
       "      <td>-6</td>\n",
       "    </tr>\n",
       "  </tbody>\n",
       "</table>\n",
       "</div>"
      ],
      "text/plain": [
       "                   A         B         C  D  F\n",
       "2030-01-01  0.000000 -0.180907 -0.461020 -5 -1\n",
       "2030-01-02 -0.054210 -0.363720 -0.790707 -5 -2\n",
       "2030-01-03 -0.571645 -0.286924 -0.956991 -5 -3\n",
       "2030-01-04 -0.945357 -0.324213 -1.661276 -5 -4\n",
       "2030-01-05 -0.002042 -0.665363 -0.861948 -5 -5\n",
       "2030-01-06 -1.367943 -2.025148 -0.032750 -5 -6"
      ]
     },
     "execution_count": 34,
     "metadata": {},
     "output_type": "execute_result"
    }
   ],
   "source": [
    "# 음수만을 결과값으로 가지는 데이터 프레임\n",
    "df2 = df.copy()\n",
    "df2[df2 > 0] = -df2\n",
    "df2"
   ]
  },
  {
   "cell_type": "code",
   "execution_count": 39,
   "id": "9ff62d72",
   "metadata": {},
   "outputs": [],
   "source": [
    "# 결측치 = missing data\n",
    "# np.nan -> Pandas는 연산에서 제외한다\n",
    "# 재인덱싱은 해당 축에 대해 인덱스를 변경/추가/삭제를 하게됩니다\n",
    "# 이는 복사한 데이터프레임을 반환합니다\n",
    "\n",
    "df1 = df.reindex(index=dates[0:4], columns=list(df.columns) + ['E'])\n"
   ]
  },
  {
   "cell_type": "code",
   "execution_count": 40,
   "id": "91a9beb4",
   "metadata": {},
   "outputs": [
    {
     "data": {
      "text/html": [
       "<div>\n",
       "<style scoped>\n",
       "    .dataframe tbody tr th:only-of-type {\n",
       "        vertical-align: middle;\n",
       "    }\n",
       "\n",
       "    .dataframe tbody tr th {\n",
       "        vertical-align: top;\n",
       "    }\n",
       "\n",
       "    .dataframe thead th {\n",
       "        text-align: right;\n",
       "    }\n",
       "</style>\n",
       "<table border=\"1\" class=\"dataframe\">\n",
       "  <thead>\n",
       "    <tr style=\"text-align: right;\">\n",
       "      <th></th>\n",
       "      <th>A</th>\n",
       "      <th>B</th>\n",
       "      <th>C</th>\n",
       "      <th>D</th>\n",
       "      <th>F</th>\n",
       "      <th>E</th>\n",
       "    </tr>\n",
       "  </thead>\n",
       "  <tbody>\n",
       "    <tr>\n",
       "      <th>2030-01-01</th>\n",
       "      <td>0.000000</td>\n",
       "      <td>-0.180907</td>\n",
       "      <td>-0.461020</td>\n",
       "      <td>5</td>\n",
       "      <td>1</td>\n",
       "      <td>1.0</td>\n",
       "    </tr>\n",
       "    <tr>\n",
       "      <th>2030-01-02</th>\n",
       "      <td>0.054210</td>\n",
       "      <td>0.363720</td>\n",
       "      <td>-0.790707</td>\n",
       "      <td>5</td>\n",
       "      <td>2</td>\n",
       "      <td>1.0</td>\n",
       "    </tr>\n",
       "    <tr>\n",
       "      <th>2030-01-03</th>\n",
       "      <td>-0.571645</td>\n",
       "      <td>0.286924</td>\n",
       "      <td>-0.956991</td>\n",
       "      <td>5</td>\n",
       "      <td>3</td>\n",
       "      <td>NaN</td>\n",
       "    </tr>\n",
       "    <tr>\n",
       "      <th>2030-01-04</th>\n",
       "      <td>-0.945357</td>\n",
       "      <td>0.324213</td>\n",
       "      <td>-1.661276</td>\n",
       "      <td>5</td>\n",
       "      <td>4</td>\n",
       "      <td>NaN</td>\n",
       "    </tr>\n",
       "  </tbody>\n",
       "</table>\n",
       "</div>"
      ],
      "text/plain": [
       "                   A         B         C  D  F    E\n",
       "2030-01-01  0.000000 -0.180907 -0.461020  5  1  1.0\n",
       "2030-01-02  0.054210  0.363720 -0.790707  5  2  1.0\n",
       "2030-01-03 -0.571645  0.286924 -0.956991  5  3  NaN\n",
       "2030-01-04 -0.945357  0.324213 -1.661276  5  4  NaN"
      ]
     },
     "execution_count": 40,
     "metadata": {},
     "output_type": "execute_result"
    }
   ],
   "source": [
    "df1.loc[dates[0]: dates[1], 'E'] = 1\n",
    "\n",
    "df1"
   ]
  },
  {
   "cell_type": "code",
   "execution_count": 41,
   "id": "5ae53566",
   "metadata": {},
   "outputs": [
    {
     "data": {
      "text/html": [
       "<div>\n",
       "<style scoped>\n",
       "    .dataframe tbody tr th:only-of-type {\n",
       "        vertical-align: middle;\n",
       "    }\n",
       "\n",
       "    .dataframe tbody tr th {\n",
       "        vertical-align: top;\n",
       "    }\n",
       "\n",
       "    .dataframe thead th {\n",
       "        text-align: right;\n",
       "    }\n",
       "</style>\n",
       "<table border=\"1\" class=\"dataframe\">\n",
       "  <thead>\n",
       "    <tr style=\"text-align: right;\">\n",
       "      <th></th>\n",
       "      <th>A</th>\n",
       "      <th>B</th>\n",
       "      <th>C</th>\n",
       "      <th>D</th>\n",
       "      <th>F</th>\n",
       "      <th>E</th>\n",
       "    </tr>\n",
       "  </thead>\n",
       "  <tbody>\n",
       "    <tr>\n",
       "      <th>2030-01-01</th>\n",
       "      <td>0.00000</td>\n",
       "      <td>-0.180907</td>\n",
       "      <td>-0.461020</td>\n",
       "      <td>5</td>\n",
       "      <td>1</td>\n",
       "      <td>1.0</td>\n",
       "    </tr>\n",
       "    <tr>\n",
       "      <th>2030-01-02</th>\n",
       "      <td>0.05421</td>\n",
       "      <td>0.363720</td>\n",
       "      <td>-0.790707</td>\n",
       "      <td>5</td>\n",
       "      <td>2</td>\n",
       "      <td>1.0</td>\n",
       "    </tr>\n",
       "  </tbody>\n",
       "</table>\n",
       "</div>"
      ],
      "text/plain": [
       "                  A         B         C  D  F    E\n",
       "2030-01-01  0.00000 -0.180907 -0.461020  5  1  1.0\n",
       "2030-01-02  0.05421  0.363720 -0.790707  5  2  1.0"
      ]
     },
     "execution_count": 41,
     "metadata": {},
     "output_type": "execute_result"
    }
   ],
   "source": [
    "# 결측치 존재하면 다버리는 dropna\n",
    "df1.dropna(how='any')"
   ]
  },
  {
   "cell_type": "code",
   "execution_count": 42,
   "id": "0c41c204",
   "metadata": {},
   "outputs": [
    {
     "data": {
      "text/html": [
       "<div>\n",
       "<style scoped>\n",
       "    .dataframe tbody tr th:only-of-type {\n",
       "        vertical-align: middle;\n",
       "    }\n",
       "\n",
       "    .dataframe tbody tr th {\n",
       "        vertical-align: top;\n",
       "    }\n",
       "\n",
       "    .dataframe thead th {\n",
       "        text-align: right;\n",
       "    }\n",
       "</style>\n",
       "<table border=\"1\" class=\"dataframe\">\n",
       "  <thead>\n",
       "    <tr style=\"text-align: right;\">\n",
       "      <th></th>\n",
       "      <th>A</th>\n",
       "      <th>B</th>\n",
       "      <th>C</th>\n",
       "      <th>D</th>\n",
       "      <th>F</th>\n",
       "      <th>E</th>\n",
       "    </tr>\n",
       "  </thead>\n",
       "  <tbody>\n",
       "    <tr>\n",
       "      <th>2030-01-01</th>\n",
       "      <td>0.000000</td>\n",
       "      <td>-0.180907</td>\n",
       "      <td>-0.461020</td>\n",
       "      <td>5</td>\n",
       "      <td>1</td>\n",
       "      <td>1.0</td>\n",
       "    </tr>\n",
       "    <tr>\n",
       "      <th>2030-01-02</th>\n",
       "      <td>0.054210</td>\n",
       "      <td>0.363720</td>\n",
       "      <td>-0.790707</td>\n",
       "      <td>5</td>\n",
       "      <td>2</td>\n",
       "      <td>1.0</td>\n",
       "    </tr>\n",
       "    <tr>\n",
       "      <th>2030-01-03</th>\n",
       "      <td>-0.571645</td>\n",
       "      <td>0.286924</td>\n",
       "      <td>-0.956991</td>\n",
       "      <td>5</td>\n",
       "      <td>3</td>\n",
       "      <td>5.0</td>\n",
       "    </tr>\n",
       "    <tr>\n",
       "      <th>2030-01-04</th>\n",
       "      <td>-0.945357</td>\n",
       "      <td>0.324213</td>\n",
       "      <td>-1.661276</td>\n",
       "      <td>5</td>\n",
       "      <td>4</td>\n",
       "      <td>5.0</td>\n",
       "    </tr>\n",
       "  </tbody>\n",
       "</table>\n",
       "</div>"
      ],
      "text/plain": [
       "                   A         B         C  D  F    E\n",
       "2030-01-01  0.000000 -0.180907 -0.461020  5  1  1.0\n",
       "2030-01-02  0.054210  0.363720 -0.790707  5  2  1.0\n",
       "2030-01-03 -0.571645  0.286924 -0.956991  5  3  5.0\n",
       "2030-01-04 -0.945357  0.324213 -1.661276  5  4  5.0"
      ]
     },
     "execution_count": 42,
     "metadata": {},
     "output_type": "execute_result"
    }
   ],
   "source": [
    "# 결측치 존재하면 다른거로 채우는 fillna\n",
    "df1.fillna(value=5)"
   ]
  },
  {
   "cell_type": "code",
   "execution_count": 43,
   "id": "d2538030",
   "metadata": {},
   "outputs": [
    {
     "data": {
      "text/html": [
       "<div>\n",
       "<style scoped>\n",
       "    .dataframe tbody tr th:only-of-type {\n",
       "        vertical-align: middle;\n",
       "    }\n",
       "\n",
       "    .dataframe tbody tr th {\n",
       "        vertical-align: top;\n",
       "    }\n",
       "\n",
       "    .dataframe thead th {\n",
       "        text-align: right;\n",
       "    }\n",
       "</style>\n",
       "<table border=\"1\" class=\"dataframe\">\n",
       "  <thead>\n",
       "    <tr style=\"text-align: right;\">\n",
       "      <th></th>\n",
       "      <th>A</th>\n",
       "      <th>B</th>\n",
       "      <th>C</th>\n",
       "      <th>D</th>\n",
       "      <th>F</th>\n",
       "      <th>E</th>\n",
       "    </tr>\n",
       "  </thead>\n",
       "  <tbody>\n",
       "    <tr>\n",
       "      <th>2030-01-01</th>\n",
       "      <td>False</td>\n",
       "      <td>False</td>\n",
       "      <td>False</td>\n",
       "      <td>False</td>\n",
       "      <td>False</td>\n",
       "      <td>False</td>\n",
       "    </tr>\n",
       "    <tr>\n",
       "      <th>2030-01-02</th>\n",
       "      <td>False</td>\n",
       "      <td>False</td>\n",
       "      <td>False</td>\n",
       "      <td>False</td>\n",
       "      <td>False</td>\n",
       "      <td>False</td>\n",
       "    </tr>\n",
       "    <tr>\n",
       "      <th>2030-01-03</th>\n",
       "      <td>False</td>\n",
       "      <td>False</td>\n",
       "      <td>False</td>\n",
       "      <td>False</td>\n",
       "      <td>False</td>\n",
       "      <td>True</td>\n",
       "    </tr>\n",
       "    <tr>\n",
       "      <th>2030-01-04</th>\n",
       "      <td>False</td>\n",
       "      <td>False</td>\n",
       "      <td>False</td>\n",
       "      <td>False</td>\n",
       "      <td>False</td>\n",
       "      <td>True</td>\n",
       "    </tr>\n",
       "  </tbody>\n",
       "</table>\n",
       "</div>"
      ],
      "text/plain": [
       "                A      B      C      D      F      E\n",
       "2030-01-01  False  False  False  False  False  False\n",
       "2030-01-02  False  False  False  False  False  False\n",
       "2030-01-03  False  False  False  False  False   True\n",
       "2030-01-04  False  False  False  False  False   True"
      ]
     },
     "execution_count": 43,
     "metadata": {},
     "output_type": "execute_result"
    }
   ],
   "source": [
    "# 해당 값이 결측치인지 확인하는 isna\n",
    "pd.isna(df1)"
   ]
  },
  {
   "cell_type": "code",
   "execution_count": 44,
   "id": "4e242540",
   "metadata": {},
   "outputs": [
    {
     "data": {
      "text/plain": [
       "A   -0.016148\n",
       "B   -0.094306\n",
       "C   -0.794115\n",
       "D    5.000000\n",
       "F    3.500000\n",
       "dtype: float64"
      ]
     },
     "execution_count": 44,
     "metadata": {},
     "output_type": "execute_result"
    }
   ],
   "source": [
    "# 연산 \n",
    "# 행으로 평균 구하기\n",
    "df.mean()"
   ]
  },
  {
   "cell_type": "code",
   "execution_count": 45,
   "id": "a27c73fe",
   "metadata": {},
   "outputs": [
    {
     "data": {
      "text/plain": [
       "2030-01-01    1.071615\n",
       "2030-01-02    1.325444\n",
       "2030-01-03    1.351658\n",
       "2030-01-04    1.343516\n",
       "2030-01-05    1.960275\n",
       "2030-01-06    2.062009\n",
       "Freq: D, dtype: float64"
      ]
     },
     "execution_count": 45,
     "metadata": {},
     "output_type": "execute_result"
    }
   ],
   "source": [
    "# 열을 기준으로 평균 구하기\n",
    "df.mean(1)"
   ]
  },
  {
   "cell_type": "code",
   "execution_count": 46,
   "id": "9edfac8c",
   "metadata": {},
   "outputs": [
    {
     "data": {
      "text/plain": [
       "2030-01-01    NaN\n",
       "2030-01-02    NaN\n",
       "2030-01-03    1.0\n",
       "2030-01-04    3.0\n",
       "2030-01-05    5.0\n",
       "2030-01-06    NaN\n",
       "Freq: D, dtype: float64"
      ]
     },
     "execution_count": 46,
     "metadata": {},
     "output_type": "execute_result"
    }
   ],
   "source": [
    "# 차원이 달라 인덱스를 맞춰야하는 두 오브젝트 간 연산 예제\n",
    "s = pd.Series([1, 3, 5, np.nan, 6, 8], index=dates).shift(2)\n",
    "s"
   ]
  },
  {
   "cell_type": "code",
   "execution_count": 48,
   "id": "d8e74b29",
   "metadata": {},
   "outputs": [
    {
     "data": {
      "text/html": [
       "<div>\n",
       "<style scoped>\n",
       "    .dataframe tbody tr th:only-of-type {\n",
       "        vertical-align: middle;\n",
       "    }\n",
       "\n",
       "    .dataframe tbody tr th {\n",
       "        vertical-align: top;\n",
       "    }\n",
       "\n",
       "    .dataframe thead th {\n",
       "        text-align: right;\n",
       "    }\n",
       "</style>\n",
       "<table border=\"1\" class=\"dataframe\">\n",
       "  <thead>\n",
       "    <tr style=\"text-align: right;\">\n",
       "      <th></th>\n",
       "      <th>A</th>\n",
       "      <th>B</th>\n",
       "      <th>C</th>\n",
       "      <th>D</th>\n",
       "      <th>F</th>\n",
       "    </tr>\n",
       "  </thead>\n",
       "  <tbody>\n",
       "    <tr>\n",
       "      <th>2030-01-01</th>\n",
       "      <td>0.000000</td>\n",
       "      <td>-0.180907</td>\n",
       "      <td>-0.461020</td>\n",
       "      <td>5</td>\n",
       "      <td>1</td>\n",
       "    </tr>\n",
       "    <tr>\n",
       "      <th>2030-01-02</th>\n",
       "      <td>0.054210</td>\n",
       "      <td>0.363720</td>\n",
       "      <td>-0.790707</td>\n",
       "      <td>5</td>\n",
       "      <td>2</td>\n",
       "    </tr>\n",
       "    <tr>\n",
       "      <th>2030-01-03</th>\n",
       "      <td>-0.571645</td>\n",
       "      <td>0.286924</td>\n",
       "      <td>-0.956991</td>\n",
       "      <td>5</td>\n",
       "      <td>3</td>\n",
       "    </tr>\n",
       "    <tr>\n",
       "      <th>2030-01-04</th>\n",
       "      <td>-0.945357</td>\n",
       "      <td>0.324213</td>\n",
       "      <td>-1.661276</td>\n",
       "      <td>5</td>\n",
       "      <td>4</td>\n",
       "    </tr>\n",
       "    <tr>\n",
       "      <th>2030-01-05</th>\n",
       "      <td>-0.002042</td>\n",
       "      <td>0.665363</td>\n",
       "      <td>-0.861948</td>\n",
       "      <td>5</td>\n",
       "      <td>5</td>\n",
       "    </tr>\n",
       "    <tr>\n",
       "      <th>2030-01-06</th>\n",
       "      <td>1.367943</td>\n",
       "      <td>-2.025148</td>\n",
       "      <td>-0.032750</td>\n",
       "      <td>5</td>\n",
       "      <td>6</td>\n",
       "    </tr>\n",
       "  </tbody>\n",
       "</table>\n",
       "</div>"
      ],
      "text/plain": [
       "                   A         B         C  D  F\n",
       "2030-01-01  0.000000 -0.180907 -0.461020  5  1\n",
       "2030-01-02  0.054210  0.363720 -0.790707  5  2\n",
       "2030-01-03 -0.571645  0.286924 -0.956991  5  3\n",
       "2030-01-04 -0.945357  0.324213 -1.661276  5  4\n",
       "2030-01-05 -0.002042  0.665363 -0.861948  5  5\n",
       "2030-01-06  1.367943 -2.025148 -0.032750  5  6"
      ]
     },
     "execution_count": 48,
     "metadata": {},
     "output_type": "execute_result"
    }
   ],
   "source": [
    "df"
   ]
  },
  {
   "cell_type": "code",
   "execution_count": 47,
   "id": "60d1c8fd",
   "metadata": {},
   "outputs": [
    {
     "data": {
      "text/html": [
       "<div>\n",
       "<style scoped>\n",
       "    .dataframe tbody tr th:only-of-type {\n",
       "        vertical-align: middle;\n",
       "    }\n",
       "\n",
       "    .dataframe tbody tr th {\n",
       "        vertical-align: top;\n",
       "    }\n",
       "\n",
       "    .dataframe thead th {\n",
       "        text-align: right;\n",
       "    }\n",
       "</style>\n",
       "<table border=\"1\" class=\"dataframe\">\n",
       "  <thead>\n",
       "    <tr style=\"text-align: right;\">\n",
       "      <th></th>\n",
       "      <th>A</th>\n",
       "      <th>B</th>\n",
       "      <th>C</th>\n",
       "      <th>D</th>\n",
       "      <th>F</th>\n",
       "    </tr>\n",
       "  </thead>\n",
       "  <tbody>\n",
       "    <tr>\n",
       "      <th>2030-01-01</th>\n",
       "      <td>NaN</td>\n",
       "      <td>NaN</td>\n",
       "      <td>NaN</td>\n",
       "      <td>NaN</td>\n",
       "      <td>NaN</td>\n",
       "    </tr>\n",
       "    <tr>\n",
       "      <th>2030-01-02</th>\n",
       "      <td>NaN</td>\n",
       "      <td>NaN</td>\n",
       "      <td>NaN</td>\n",
       "      <td>NaN</td>\n",
       "      <td>NaN</td>\n",
       "    </tr>\n",
       "    <tr>\n",
       "      <th>2030-01-03</th>\n",
       "      <td>-1.571645</td>\n",
       "      <td>-0.713076</td>\n",
       "      <td>-1.956991</td>\n",
       "      <td>4.0</td>\n",
       "      <td>2.0</td>\n",
       "    </tr>\n",
       "    <tr>\n",
       "      <th>2030-01-04</th>\n",
       "      <td>-3.945357</td>\n",
       "      <td>-2.675787</td>\n",
       "      <td>-4.661276</td>\n",
       "      <td>2.0</td>\n",
       "      <td>1.0</td>\n",
       "    </tr>\n",
       "    <tr>\n",
       "      <th>2030-01-05</th>\n",
       "      <td>-5.002042</td>\n",
       "      <td>-4.334637</td>\n",
       "      <td>-5.861948</td>\n",
       "      <td>0.0</td>\n",
       "      <td>0.0</td>\n",
       "    </tr>\n",
       "    <tr>\n",
       "      <th>2030-01-06</th>\n",
       "      <td>NaN</td>\n",
       "      <td>NaN</td>\n",
       "      <td>NaN</td>\n",
       "      <td>NaN</td>\n",
       "      <td>NaN</td>\n",
       "    </tr>\n",
       "  </tbody>\n",
       "</table>\n",
       "</div>"
      ],
      "text/plain": [
       "                   A         B         C    D    F\n",
       "2030-01-01       NaN       NaN       NaN  NaN  NaN\n",
       "2030-01-02       NaN       NaN       NaN  NaN  NaN\n",
       "2030-01-03 -1.571645 -0.713076 -1.956991  4.0  2.0\n",
       "2030-01-04 -3.945357 -2.675787 -4.661276  2.0  1.0\n",
       "2030-01-05 -5.002042 -4.334637 -5.861948  0.0  0.0\n",
       "2030-01-06       NaN       NaN       NaN  NaN  NaN"
      ]
     },
     "execution_count": 47,
     "metadata": {},
     "output_type": "execute_result"
    }
   ],
   "source": [
    "df.sub(s, axis='index')"
   ]
  },
  {
   "cell_type": "code",
   "execution_count": 49,
   "id": "360f85be",
   "metadata": {},
   "outputs": [
    {
     "data": {
      "text/html": [
       "<div>\n",
       "<style scoped>\n",
       "    .dataframe tbody tr th:only-of-type {\n",
       "        vertical-align: middle;\n",
       "    }\n",
       "\n",
       "    .dataframe tbody tr th {\n",
       "        vertical-align: top;\n",
       "    }\n",
       "\n",
       "    .dataframe thead th {\n",
       "        text-align: right;\n",
       "    }\n",
       "</style>\n",
       "<table border=\"1\" class=\"dataframe\">\n",
       "  <thead>\n",
       "    <tr style=\"text-align: right;\">\n",
       "      <th></th>\n",
       "      <th>A</th>\n",
       "      <th>B</th>\n",
       "      <th>C</th>\n",
       "      <th>D</th>\n",
       "      <th>F</th>\n",
       "    </tr>\n",
       "  </thead>\n",
       "  <tbody>\n",
       "    <tr>\n",
       "      <th>2030-01-01</th>\n",
       "      <td>0.000000</td>\n",
       "      <td>-0.180907</td>\n",
       "      <td>-0.461020</td>\n",
       "      <td>5</td>\n",
       "      <td>1</td>\n",
       "    </tr>\n",
       "    <tr>\n",
       "      <th>2030-01-02</th>\n",
       "      <td>0.054210</td>\n",
       "      <td>0.182813</td>\n",
       "      <td>-1.251728</td>\n",
       "      <td>10</td>\n",
       "      <td>3</td>\n",
       "    </tr>\n",
       "    <tr>\n",
       "      <th>2030-01-03</th>\n",
       "      <td>-0.517435</td>\n",
       "      <td>0.469737</td>\n",
       "      <td>-2.208719</td>\n",
       "      <td>15</td>\n",
       "      <td>6</td>\n",
       "    </tr>\n",
       "    <tr>\n",
       "      <th>2030-01-04</th>\n",
       "      <td>-1.462791</td>\n",
       "      <td>0.793950</td>\n",
       "      <td>-3.869995</td>\n",
       "      <td>20</td>\n",
       "      <td>10</td>\n",
       "    </tr>\n",
       "    <tr>\n",
       "      <th>2030-01-05</th>\n",
       "      <td>-1.464833</td>\n",
       "      <td>1.459313</td>\n",
       "      <td>-4.731942</td>\n",
       "      <td>25</td>\n",
       "      <td>15</td>\n",
       "    </tr>\n",
       "    <tr>\n",
       "      <th>2030-01-06</th>\n",
       "      <td>-0.096891</td>\n",
       "      <td>-0.565834</td>\n",
       "      <td>-4.764692</td>\n",
       "      <td>30</td>\n",
       "      <td>21</td>\n",
       "    </tr>\n",
       "  </tbody>\n",
       "</table>\n",
       "</div>"
      ],
      "text/plain": [
       "                   A         B         C   D   F\n",
       "2030-01-01  0.000000 -0.180907 -0.461020   5   1\n",
       "2030-01-02  0.054210  0.182813 -1.251728  10   3\n",
       "2030-01-03 -0.517435  0.469737 -2.208719  15   6\n",
       "2030-01-04 -1.462791  0.793950 -3.869995  20  10\n",
       "2030-01-05 -1.464833  1.459313 -4.731942  25  15\n",
       "2030-01-06 -0.096891 -0.565834 -4.764692  30  21"
      ]
     },
     "execution_count": 49,
     "metadata": {},
     "output_type": "execute_result"
    }
   ],
   "source": [
    "# 데이터프레임에 함수 적용하기\n",
    "df.apply(np.cumsum)"
   ]
  },
  {
   "cell_type": "code",
   "execution_count": 50,
   "id": "1d231f16",
   "metadata": {},
   "outputs": [
    {
     "data": {
      "text/html": [
       "<div>\n",
       "<style scoped>\n",
       "    .dataframe tbody tr th:only-of-type {\n",
       "        vertical-align: middle;\n",
       "    }\n",
       "\n",
       "    .dataframe tbody tr th {\n",
       "        vertical-align: top;\n",
       "    }\n",
       "\n",
       "    .dataframe thead th {\n",
       "        text-align: right;\n",
       "    }\n",
       "</style>\n",
       "<table border=\"1\" class=\"dataframe\">\n",
       "  <thead>\n",
       "    <tr style=\"text-align: right;\">\n",
       "      <th></th>\n",
       "      <th>A</th>\n",
       "      <th>B</th>\n",
       "      <th>C</th>\n",
       "      <th>D</th>\n",
       "      <th>F</th>\n",
       "    </tr>\n",
       "  </thead>\n",
       "  <tbody>\n",
       "    <tr>\n",
       "      <th>2030-01-01</th>\n",
       "      <td>0.000000</td>\n",
       "      <td>-0.180907</td>\n",
       "      <td>-0.461020</td>\n",
       "      <td>5</td>\n",
       "      <td>1</td>\n",
       "    </tr>\n",
       "    <tr>\n",
       "      <th>2030-01-02</th>\n",
       "      <td>0.054210</td>\n",
       "      <td>0.363720</td>\n",
       "      <td>-0.790707</td>\n",
       "      <td>5</td>\n",
       "      <td>2</td>\n",
       "    </tr>\n",
       "    <tr>\n",
       "      <th>2030-01-03</th>\n",
       "      <td>-0.571645</td>\n",
       "      <td>0.286924</td>\n",
       "      <td>-0.956991</td>\n",
       "      <td>5</td>\n",
       "      <td>3</td>\n",
       "    </tr>\n",
       "    <tr>\n",
       "      <th>2030-01-04</th>\n",
       "      <td>-0.945357</td>\n",
       "      <td>0.324213</td>\n",
       "      <td>-1.661276</td>\n",
       "      <td>5</td>\n",
       "      <td>4</td>\n",
       "    </tr>\n",
       "    <tr>\n",
       "      <th>2030-01-05</th>\n",
       "      <td>-0.002042</td>\n",
       "      <td>0.665363</td>\n",
       "      <td>-0.861948</td>\n",
       "      <td>5</td>\n",
       "      <td>5</td>\n",
       "    </tr>\n",
       "    <tr>\n",
       "      <th>2030-01-06</th>\n",
       "      <td>1.367943</td>\n",
       "      <td>-2.025148</td>\n",
       "      <td>-0.032750</td>\n",
       "      <td>5</td>\n",
       "      <td>6</td>\n",
       "    </tr>\n",
       "  </tbody>\n",
       "</table>\n",
       "</div>"
      ],
      "text/plain": [
       "                   A         B         C  D  F\n",
       "2030-01-01  0.000000 -0.180907 -0.461020  5  1\n",
       "2030-01-02  0.054210  0.363720 -0.790707  5  2\n",
       "2030-01-03 -0.571645  0.286924 -0.956991  5  3\n",
       "2030-01-04 -0.945357  0.324213 -1.661276  5  4\n",
       "2030-01-05 -0.002042  0.665363 -0.861948  5  5\n",
       "2030-01-06  1.367943 -2.025148 -0.032750  5  6"
      ]
     },
     "execution_count": 50,
     "metadata": {},
     "output_type": "execute_result"
    }
   ],
   "source": [
    "df"
   ]
  },
  {
   "cell_type": "code",
   "execution_count": 51,
   "id": "0895e3a0",
   "metadata": {},
   "outputs": [
    {
     "data": {
      "text/plain": [
       "A    2.313299\n",
       "B    2.690511\n",
       "C    1.628526\n",
       "D    0.000000\n",
       "F    5.000000\n",
       "dtype: float64"
      ]
     },
     "execution_count": 51,
     "metadata": {},
     "output_type": "execute_result"
    }
   ],
   "source": [
    "df.apply(lambda x: x.max() - x.min())\n"
   ]
  },
  {
   "cell_type": "code",
   "execution_count": null,
   "id": "5dcd6a56",
   "metadata": {},
   "outputs": [],
   "source": [
    "# plot으로 그래프 그리기\n",
    "ts = pd.Series(np.random.randn(1000), index=pd.date_range('1/1/2000'), periods=1000)\n",
    "ts = ts.cumsum()\n",
    "ts.plot()"
   ]
  }
 ],
 "metadata": {
  "kernelspec": {
   "display_name": "Python 3 (ipykernel)",
   "language": "python",
   "name": "python3"
  },
  "language_info": {
   "codemirror_mode": {
    "name": "ipython",
    "version": 3
   },
   "file_extension": ".py",
   "mimetype": "text/x-python",
   "name": "python",
   "nbconvert_exporter": "python",
   "pygments_lexer": "ipython3",
   "version": "3.9.12"
  }
 },
 "nbformat": 4,
 "nbformat_minor": 5
}
